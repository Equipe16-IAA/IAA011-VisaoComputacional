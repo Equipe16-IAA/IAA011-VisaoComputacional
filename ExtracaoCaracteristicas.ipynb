{
  "nbformat": 4,
  "nbformat_minor": 0,
  "metadata": {
    "colab": {
      "provenance": [],
      "gpuType": "T4",
      "include_colab_link": true
    },
    "kernelspec": {
      "name": "python3",
      "display_name": "Python 3"
    },
    "language_info": {
      "name": "python"
    },
    "accelerator": "GPU"
  },
  "cells": [
    {
      "cell_type": "markdown",
      "metadata": {
        "id": "view-in-github",
        "colab_type": "text"
      },
      "source": [
        "<a href=\"https://colab.research.google.com/github/Equipe16-IAA/IAA011-VisaoComputacional/blob/main/ExtracaoCaracteristicas.ipynb\" target=\"_parent\"><img src=\"https://colab.research.google.com/assets/colab-badge.svg\" alt=\"Open In Colab\"/></a>"
      ]
    },
    {
      "cell_type": "markdown",
      "source": [
        "# 1 - Extração de Caracteristicas"
      ],
      "metadata": {
        "id": "GHJEbBNmLlGv"
      }
    },
    {
      "cell_type": "code",
      "execution_count": null,
      "metadata": {
        "id": "ps7lvCsGLhTq"
      },
      "outputs": [],
      "source": [
        "import cv2\n",
        "import numpy as np\n",
        "import matplotlib.pyplot as plt\n",
        "import zipfile"
      ]
    },
    {
      "cell_type": "code",
      "source": [
        "!wget https://marlonprudente.eng.br/files/Train_Warwick.zip\n",
        "!wget https://marlonprudente.eng.br/files/Test_Warwick.zip\n",
        "\n",
        "# Extrai o conteúdo do arquivo zip\n",
        "!unzip Train_Warwick.zip\n",
        "!unzip Test_Warwick.zip"
      ],
      "metadata": {
        "id": "VFnH_farMnVA",
        "colab": {
          "base_uri": "https://localhost:8080/"
        },
        "outputId": "930b512b-30eb-4178-f777-1b5086609611"
      },
      "execution_count": null,
      "outputs": [
        {
          "output_type": "stream",
          "name": "stdout",
          "text": [
            "--2024-10-08 22:29:09--  https://marlonprudente.eng.br/files/Train_Warwick.zip\n",
            "Resolving marlonprudente.eng.br (marlonprudente.eng.br)... 138.36.12.12\n",
            "Connecting to marlonprudente.eng.br (marlonprudente.eng.br)|138.36.12.12|:443... connected.\n",
            "HTTP request sent, awaiting response... 200 OK\n",
            "Length: 69224543 (66M) [application/x-zip-compressed]\n",
            "Saving to: ‘Train_Warwick.zip.1’\n",
            "\n",
            "Train_Warwick.zip.1 100%[===================>]  66.02M  5.63MB/s    in 15s     \n",
            "\n",
            "2024-10-08 22:29:25 (4.52 MB/s) - ‘Train_Warwick.zip.1’ saved [69224543/69224543]\n",
            "\n",
            "--2024-10-08 22:29:26--  https://marlonprudente.eng.br/files/Test_Warwick.zip\n",
            "Resolving marlonprudente.eng.br (marlonprudente.eng.br)... 138.36.12.12\n",
            "Connecting to marlonprudente.eng.br (marlonprudente.eng.br)|138.36.12.12|:443... connected.\n",
            "HTTP request sent, awaiting response... 200 OK\n",
            "Length: 42332545 (40M) [application/x-zip-compressed]\n",
            "Saving to: ‘Test_Warwick.zip.1’\n",
            "\n",
            "Test_Warwick.zip.1  100%[===================>]  40.37M  5.60MB/s    in 9.9s    \n",
            "\n",
            "2024-10-08 22:29:37 (4.10 MB/s) - ‘Test_Warwick.zip.1’ saved [42332545/42332545]\n",
            "\n",
            "Archive:  Train_Warwick.zip\n",
            "replace Train_4cls_amostra/0/46_HER2_61709.png? [y]es, [n]o, [A]ll, [N]one, [r]ename: "
          ]
        }
      ]
    },
    {
      "cell_type": "markdown",
      "source": [
        "## Carregar base de dados"
      ],
      "metadata": {
        "id": "8sLE171eOzCp"
      }
    },
    {
      "cell_type": "code",
      "source": [
        "# prompt: carregue a pasta Test_4cl_amostra em uma base de dados de imagens\n",
        "# ## Carregar base de dados\n",
        "import os\n",
        "import cv2 as cv\n",
        "\n",
        "def load_images_from_folder(folder):\n",
        "  images = []\n",
        "  for filename in os.listdir(folder):\n",
        "    img = cv2.imread(os.path.join(folder,filename))\n",
        "    if img is not None:\n",
        "      images.append(img)\n",
        "  return images\n",
        "\n",
        "test_images = load_images_from_folder('Test_4cl_amostra')\n"
      ],
      "metadata": {
        "id": "h8JN6P5wO3Sk"
      },
      "execution_count": 11,
      "outputs": []
    },
    {
      "cell_type": "code",
      "source": [
        "for img in test_images:\n",
        "  image = cv.imread(img)\n",
        "  cv.imshow('image', image)\n",
        "  cv.waitKey(0)\n",
        "  cv.destroyAllWindows()"
      ],
      "metadata": {
        "id": "PVaiHkwJRw1t"
      },
      "execution_count": 15,
      "outputs": []
    }
  ]
}